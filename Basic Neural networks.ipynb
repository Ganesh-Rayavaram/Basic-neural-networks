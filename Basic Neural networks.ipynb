{
  "nbformat": 4,
  "nbformat_minor": 0,
  "metadata": {
    "colab": {
      "provenance": []
    },
    "kernelspec": {
      "name": "python3",
      "display_name": "Python 3"
    },
    "language_info": {
      "name": "python"
    }
  },
  "cells": [
    {
      "cell_type": "code",
      "execution_count": 6,
      "metadata": {
        "id": "ELl3yk_pqJdy"
      },
      "outputs": [],
      "source": [
        "#1.IMPORT REQUIRED LIBRARIES\n",
        "import tensorflow as tf\n",
        "import numpy as np"
      ]
    },
    {
      "cell_type": "code",
      "source": [
        "from tensorflow import keras"
      ],
      "metadata": {
        "id": "h4blzfh0qLGO"
      },
      "execution_count": 2,
      "outputs": []
    },
    {
      "cell_type": "code",
      "source": [
        "#2.DEFINE AND COMPILE NEURAL NETWORKS\n",
        "model = tf.keras.Sequential([keras.layers.Dense( units = 1 , input_shape = [1])])\n",
        "model.compile(optimizer = 'sgd', loss = 'mean_squared_error')"
      ],
      "metadata": {
        "id": "kN3UjDVxqUcM"
      },
      "execution_count": 11,
      "outputs": []
    },
    {
      "cell_type": "code",
      "source": [
        "#3.PROVIDE THE DATA\n",
        "xs = np.array([-1.0, 0.0, 1.0, 2.0, 3.0, 4.0], dtype=float)\n",
        "ys = np.array([-2.0, 1.0, 4.0, 7.0, 10.0, 13.0], dtype=float)\n"
      ],
      "metadata": {
        "id": "gWwOkMczqpN7"
      },
      "execution_count": 7,
      "outputs": []
    },
    {
      "cell_type": "code",
      "source": [
        "#4.TRAIN NEURAL NETWORK\n",
        "model.fit(xs,ys,epochs=70)"
      ],
      "metadata": {
        "id": "8txe1kTtrRVM",
        "outputId": "e105e937-bc47-460e-ce1a-cf1f7cec1489",
        "colab": {
          "base_uri": "https://localhost:8080/"
        }
      },
      "execution_count": 12,
      "outputs": [
        {
          "output_type": "stream",
          "name": "stdout",
          "text": [
            "Epoch 1/70\n",
            "1/1 [==============================] - 0s 435ms/step - loss: 42.2869\n",
            "Epoch 2/70\n",
            "1/1 [==============================] - 0s 14ms/step - loss: 33.2722\n",
            "Epoch 3/70\n",
            "1/1 [==============================] - 0s 9ms/step - loss: 26.1797\n",
            "Epoch 4/70\n",
            "1/1 [==============================] - 0s 10ms/step - loss: 20.5996\n",
            "Epoch 5/70\n",
            "1/1 [==============================] - 0s 9ms/step - loss: 16.2094\n",
            "Epoch 6/70\n",
            "1/1 [==============================] - 0s 8ms/step - loss: 12.7554\n",
            "Epoch 7/70\n",
            "1/1 [==============================] - 0s 8ms/step - loss: 10.0379\n",
            "Epoch 8/70\n",
            "1/1 [==============================] - 0s 9ms/step - loss: 7.8998\n",
            "Epoch 9/70\n",
            "1/1 [==============================] - 0s 10ms/step - loss: 6.2176\n",
            "Epoch 10/70\n",
            "1/1 [==============================] - 0s 9ms/step - loss: 4.8941\n",
            "Epoch 11/70\n",
            "1/1 [==============================] - 0s 8ms/step - loss: 3.8528\n",
            "Epoch 12/70\n",
            "1/1 [==============================] - 0s 9ms/step - loss: 3.0335\n",
            "Epoch 13/70\n",
            "1/1 [==============================] - 0s 8ms/step - loss: 2.3889\n",
            "Epoch 14/70\n",
            "1/1 [==============================] - 0s 10ms/step - loss: 1.8816\n",
            "Epoch 15/70\n",
            "1/1 [==============================] - 0s 9ms/step - loss: 1.4825\n",
            "Epoch 16/70\n",
            "1/1 [==============================] - 0s 8ms/step - loss: 1.1685\n",
            "Epoch 17/70\n",
            "1/1 [==============================] - 0s 8ms/step - loss: 0.9214\n",
            "Epoch 18/70\n",
            "1/1 [==============================] - 0s 8ms/step - loss: 0.7269\n",
            "Epoch 19/70\n",
            "1/1 [==============================] - 0s 8ms/step - loss: 0.5739\n",
            "Epoch 20/70\n",
            "1/1 [==============================] - 0s 13ms/step - loss: 0.4535\n",
            "Epoch 21/70\n",
            "1/1 [==============================] - 0s 11ms/step - loss: 0.3587\n",
            "Epoch 22/70\n",
            "1/1 [==============================] - 0s 8ms/step - loss: 0.2840\n",
            "Epoch 23/70\n",
            "1/1 [==============================] - 0s 8ms/step - loss: 0.2253\n",
            "Epoch 24/70\n",
            "1/1 [==============================] - 0s 8ms/step - loss: 0.1790\n",
            "Epoch 25/70\n",
            "1/1 [==============================] - 0s 11ms/step - loss: 0.1426\n",
            "Epoch 26/70\n",
            "1/1 [==============================] - 0s 12ms/step - loss: 0.1139\n",
            "Epoch 27/70\n",
            "1/1 [==============================] - 0s 12ms/step - loss: 0.0913\n",
            "Epoch 28/70\n",
            "1/1 [==============================] - 0s 9ms/step - loss: 0.0735\n",
            "Epoch 29/70\n",
            "1/1 [==============================] - 0s 8ms/step - loss: 0.0594\n",
            "Epoch 30/70\n",
            "1/1 [==============================] - 0s 8ms/step - loss: 0.0483\n",
            "Epoch 31/70\n",
            "1/1 [==============================] - 0s 11ms/step - loss: 0.0396\n",
            "Epoch 32/70\n",
            "1/1 [==============================] - 0s 9ms/step - loss: 0.0326\n",
            "Epoch 33/70\n",
            "1/1 [==============================] - 0s 9ms/step - loss: 0.0272\n",
            "Epoch 34/70\n",
            "1/1 [==============================] - 0s 11ms/step - loss: 0.0228\n",
            "Epoch 35/70\n",
            "1/1 [==============================] - 0s 8ms/step - loss: 0.0194\n",
            "Epoch 36/70\n",
            "1/1 [==============================] - 0s 8ms/step - loss: 0.0166\n",
            "Epoch 37/70\n",
            "1/1 [==============================] - 0s 8ms/step - loss: 0.0145\n",
            "Epoch 38/70\n",
            "1/1 [==============================] - 0s 9ms/step - loss: 0.0127\n",
            "Epoch 39/70\n",
            "1/1 [==============================] - 0s 11ms/step - loss: 0.0113\n",
            "Epoch 40/70\n",
            "1/1 [==============================] - 0s 10ms/step - loss: 0.0102\n",
            "Epoch 41/70\n",
            "1/1 [==============================] - 0s 7ms/step - loss: 0.0093\n",
            "Epoch 42/70\n",
            "1/1 [==============================] - 0s 9ms/step - loss: 0.0085\n",
            "Epoch 43/70\n",
            "1/1 [==============================] - 0s 10ms/step - loss: 0.0079\n",
            "Epoch 44/70\n",
            "1/1 [==============================] - 0s 10ms/step - loss: 0.0074\n",
            "Epoch 45/70\n",
            "1/1 [==============================] - 0s 10ms/step - loss: 0.0070\n",
            "Epoch 46/70\n",
            "1/1 [==============================] - 0s 9ms/step - loss: 0.0066\n",
            "Epoch 47/70\n",
            "1/1 [==============================] - 0s 9ms/step - loss: 0.0063\n",
            "Epoch 48/70\n",
            "1/1 [==============================] - 0s 9ms/step - loss: 0.0061\n",
            "Epoch 49/70\n",
            "1/1 [==============================] - 0s 10ms/step - loss: 0.0058\n",
            "Epoch 50/70\n",
            "1/1 [==============================] - 0s 9ms/step - loss: 0.0056\n",
            "Epoch 51/70\n",
            "1/1 [==============================] - 0s 9ms/step - loss: 0.0055\n",
            "Epoch 52/70\n",
            "1/1 [==============================] - 0s 9ms/step - loss: 0.0053\n",
            "Epoch 53/70\n",
            "1/1 [==============================] - 0s 9ms/step - loss: 0.0051\n",
            "Epoch 54/70\n",
            "1/1 [==============================] - 0s 9ms/step - loss: 0.0050\n",
            "Epoch 55/70\n",
            "1/1 [==============================] - 0s 10ms/step - loss: 0.0049\n",
            "Epoch 56/70\n",
            "1/1 [==============================] - 0s 10ms/step - loss: 0.0048\n",
            "Epoch 57/70\n",
            "1/1 [==============================] - 0s 8ms/step - loss: 0.0046\n",
            "Epoch 58/70\n",
            "1/1 [==============================] - 0s 8ms/step - loss: 0.0045\n",
            "Epoch 59/70\n",
            "1/1 [==============================] - 0s 8ms/step - loss: 0.0044\n",
            "Epoch 60/70\n",
            "1/1 [==============================] - 0s 8ms/step - loss: 0.0043\n",
            "Epoch 61/70\n",
            "1/1 [==============================] - 0s 14ms/step - loss: 0.0042\n",
            "Epoch 62/70\n",
            "1/1 [==============================] - 0s 7ms/step - loss: 0.0042\n",
            "Epoch 63/70\n",
            "1/1 [==============================] - 0s 10ms/step - loss: 0.0041\n",
            "Epoch 64/70\n",
            "1/1 [==============================] - 0s 8ms/step - loss: 0.0040\n",
            "Epoch 65/70\n",
            "1/1 [==============================] - 0s 8ms/step - loss: 0.0039\n",
            "Epoch 66/70\n",
            "1/1 [==============================] - 0s 8ms/step - loss: 0.0038\n",
            "Epoch 67/70\n",
            "1/1 [==============================] - 0s 9ms/step - loss: 0.0037\n",
            "Epoch 68/70\n",
            "1/1 [==============================] - 0s 8ms/step - loss: 0.0037\n",
            "Epoch 69/70\n",
            "1/1 [==============================] - 0s 8ms/step - loss: 0.0036\n",
            "Epoch 70/70\n",
            "1/1 [==============================] - 0s 8ms/step - loss: 0.0035\n"
          ]
        },
        {
          "output_type": "execute_result",
          "data": {
            "text/plain": [
              "<keras.src.callbacks.History at 0x7dfdcb716800>"
            ]
          },
          "metadata": {},
          "execution_count": 12
        }
      ]
    },
    {
      "cell_type": "code",
      "source": [
        "#5.USE THE MODEL FOR PREDICTIONS\n",
        "print(model.predict([10.0]))"
      ],
      "metadata": {
        "id": "4cWT_W5Mr61-",
        "outputId": "17a8ae8d-1e2c-455a-fc66-37a82c66fdb5",
        "colab": {
          "base_uri": "https://localhost:8080/"
        }
      },
      "execution_count": 13,
      "outputs": [
        {
          "output_type": "stream",
          "name": "stdout",
          "text": [
            "1/1 [==============================] - 0s 97ms/step\n",
            "[[31.166542]]\n"
          ]
        }
      ]
    },
    {
      "cell_type": "code",
      "source": [],
      "metadata": {
        "id": "v7kaC9nrsa01"
      },
      "execution_count": null,
      "outputs": []
    }
  ]
}